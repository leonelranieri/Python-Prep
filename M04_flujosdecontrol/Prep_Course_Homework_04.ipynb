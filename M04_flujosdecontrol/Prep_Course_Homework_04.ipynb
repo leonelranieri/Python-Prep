{
 "cells": [
  {
   "attachments": {},
   "cell_type": "markdown",
   "metadata": {},
   "source": [
    "## Flujos de Control"
   ]
  },
  {
   "attachments": {},
   "cell_type": "markdown",
   "metadata": {},
   "source": [
    "1) Crear una variable que contenga un elemento del conjunto de números enteros y luego imprimir por pantalla si es mayor o menor a cero"
   ]
  },
  {
   "cell_type": "code",
   "execution_count": 5,
   "metadata": {},
   "outputs": [
    {
     "name": "stdout",
     "output_type": "stream",
     "text": [
      "5 es mayor a cero\n"
     ]
    }
   ],
   "source": [
    "num = 5\n",
    "if (num > 0) :\n",
    "    print(str(num) + \" es mayor a cero\")\n",
    "else : \n",
    "    print(str(num) + \" no es mayor a cero\")\n"
   ]
  },
  {
   "attachments": {},
   "cell_type": "markdown",
   "metadata": {},
   "source": [
    "2) Crear dos variables y un condicional que informe si son del mismo tipo de dato"
   ]
  },
  {
   "cell_type": "code",
   "execution_count": 13,
   "metadata": {},
   "outputs": [
    {
     "name": "stdout",
     "output_type": "stream",
     "text": [
      "No son del mismo tipo de dato: hola tipo <class 'str'>, 3.1416 tipo <class 'float'>\n"
     ]
    }
   ],
   "source": [
    "var1 = \"hola\"\n",
    "var2 = 3.1416\n",
    "if(type(var1)==type(var2)):\n",
    "    print(\"Son del mismo tipo de dato: tipo \"+str(type(var1)))\n",
    "else :\n",
    "    print(\"No son del mismo tipo de dato: \"+str(var1)+\" tipo \"+str(type(var1))\n",
    "            +\", \"+str(var2)+\" tipo \"+str(type(var2)))\n"
   ]
  },
  {
   "attachments": {},
   "cell_type": "markdown",
   "metadata": {},
   "source": [
    "3) Para los valores enteros del 1 al 20, imprimir por pantalla si es par o impar"
   ]
  },
  {
   "cell_type": "code",
   "execution_count": 14,
   "metadata": {},
   "outputs": [
    {
     "name": "stdout",
     "output_type": "stream",
     "text": [
      "20 es par\n",
      "19 es impar\n",
      "18 es par\n",
      "17 es impar\n",
      "16 es par\n",
      "15 es impar\n",
      "14 es par\n",
      "13 es impar\n",
      "12 es par\n",
      "11 es impar\n",
      "10 es par\n",
      "9 es impar\n",
      "8 es par\n",
      "7 es impar\n",
      "6 es par\n",
      "5 es impar\n",
      "4 es par\n",
      "3 es impar\n",
      "2 es par\n",
      "1 es impar\n"
     ]
    }
   ],
   "source": [
    "var1=20\n",
    "while (var1 > 0):\n",
    "    if(var1%2==0):\n",
    "        print(str(var1)+\" es par\")\n",
    "    else:\n",
    "        print(str(var1)+\" es impar\")\n",
    "    var1-=1"
   ]
  },
  {
   "attachments": {},
   "cell_type": "markdown",
   "metadata": {},
   "source": [
    "4) En un ciclo for mostrar para los valores entre 0 y 5 el resultado de elevarlo a la potencia igual a 3"
   ]
  },
  {
   "cell_type": "code",
   "execution_count": 15,
   "metadata": {},
   "outputs": [
    {
     "name": "stdout",
     "output_type": "stream",
     "text": [
      "0 elevado a la 3: 0\n",
      "1 elevado a la 3: 1\n",
      "2 elevado a la 3: 8\n",
      "3 elevado a la 3: 27\n",
      "4 elevado a la 3: 64\n",
      "5 elevado a la 3: 125\n"
     ]
    }
   ],
   "source": [
    "for i in range(0, 6):\n",
    "    print(f'{i} elevado a la 3: {i**3}')"
   ]
  },
  {
   "attachments": {},
   "cell_type": "markdown",
   "metadata": {},
   "source": [
    "5) Crear una variable que contenga un número entero y realizar un ciclo for la misma cantidad de ciclos"
   ]
  },
  {
   "cell_type": "code",
   "execution_count": 6,
   "metadata": {},
   "outputs": [
    {
     "name": "stdout",
     "output_type": "stream",
     "text": [
      "0\n",
      "1\n",
      "2\n",
      "3\n",
      "4\n"
     ]
    }
   ],
   "source": [
    "j=5\n",
    "for i in range(0, j):\n",
    "    print(i)"
   ]
  },
  {
   "attachments": {},
   "cell_type": "markdown",
   "metadata": {},
   "source": [
    "6) Utilizar un ciclo while para realizar el factorial de un número guardado en una variable, sólo si la variable contiene un número entero mayor a 0"
   ]
  },
  {
   "cell_type": "code",
   "execution_count": 13,
   "metadata": {},
   "outputs": [
    {
     "name": "stdout",
     "output_type": "stream",
     "text": [
      "6\n"
     ]
    }
   ],
   "source": [
    "fact=3\n",
    "result=1\n",
    "if(fact>0):\n",
    "    while(fact>=1):\n",
    "        result*=fact\n",
    "        fact-=1\n",
    "print(result)"
   ]
  },
  {
   "attachments": {},
   "cell_type": "markdown",
   "metadata": {},
   "source": [
    "7) Crear un ciclo for dentro de un ciclo while"
   ]
  },
  {
   "cell_type": "code",
   "execution_count": 32,
   "metadata": {},
   "outputs": [
    {
     "name": "stdout",
     "output_type": "stream",
     "text": [
      "0\n",
      "1\n",
      "2\n",
      "3\n",
      "4\n",
      "5\n",
      "7\n",
      "8\n",
      "9\n"
     ]
    }
   ],
   "source": [
    "ok=False\n",
    "while(True):\n",
    "    for i in range(0,10):\n",
    "        if((i*2)==12):\n",
    "            ok=True\n",
    "            continue\n",
    "        print(i)\n",
    "    if(ok):\n",
    "        break"
   ]
  },
  {
   "attachments": {},
   "cell_type": "markdown",
   "metadata": {},
   "source": [
    "8) Crear un ciclo while dentro de un ciclo for"
   ]
  },
  {
   "cell_type": "code",
   "execution_count": 36,
   "metadata": {},
   "outputs": [
    {
     "name": "stdout",
     "output_type": "stream",
     "text": [
      "2\n",
      "4\n",
      "6\n",
      "8\n"
     ]
    }
   ],
   "source": [
    "for j in range(1, 10):\n",
    "    while(j%2==0):\n",
    "        print(j)\n",
    "        break"
   ]
  },
  {
   "attachments": {},
   "cell_type": "markdown",
   "metadata": {},
   "source": [
    "9) Imprimir los números primos existentes entre 0 y 30"
   ]
  },
  {
   "cell_type": "code",
   "execution_count": 42,
   "metadata": {},
   "outputs": [
    {
     "name": "stdout",
     "output_type": "stream",
     "text": [
      "0 es primo\n",
      "1 es primo\n",
      "2 es primo\n",
      "3 es primo\n",
      "5 es primo\n",
      "7 es primo\n",
      "11 es primo\n",
      "13 es primo\n",
      "17 es primo\n",
      "19 es primo\n",
      "23 es primo\n",
      "29 es primo\n"
     ]
    }
   ],
   "source": [
    "for i in range(0, 30):\n",
    "    primo=True\n",
    "    for j in range(2,i):\n",
    "        if(i%j==0):\n",
    "            primo=False\n",
    "            break\n",
    "    if(primo):\n",
    "        print(str(i) + \" es primo\")\n",
    "    else:\n",
    "        primo=True\n",
    "\n",
    "        "
   ]
  },
  {
   "attachments": {},
   "cell_type": "markdown",
   "metadata": {},
   "source": [
    "10) ¿Se puede mejorar el proceso del punto 9? Utilizar las sentencias break y/ó continue para tal fin"
   ]
  },
  {
   "cell_type": "markdown",
   "metadata": {},
   "source": [
    "Ya lo pense con el break\n"
   ]
  },
  {
   "cell_type": "code",
   "execution_count": null,
   "metadata": {},
   "outputs": [],
   "source": []
  },
  {
   "attachments": {},
   "cell_type": "markdown",
   "metadata": {},
   "source": [
    "11) En los puntos 9 y 10, se diseño un código que encuentra números primos y además se lo optimizó. ¿Es posible saber en qué medida se optimizó?"
   ]
  },
  {
   "cell_type": "markdown",
   "metadata": {},
   "source": [
    "Si, debido a que no sigue iterando en el segundo bucle si ya encuentra un valor que me determine que el número evaluado no es primo"
   ]
  },
  {
   "cell_type": "code",
   "execution_count": null,
   "metadata": {},
   "outputs": [],
   "source": []
  },
  {
   "attachments": {},
   "cell_type": "markdown",
   "metadata": {},
   "source": [
    "12) Aplicando continue, armar un ciclo while que solo imprima los valores divisibles por 12, dentro del rango de números de 100 a 300"
   ]
  },
  {
   "cell_type": "code",
   "execution_count": 46,
   "metadata": {},
   "outputs": [
    {
     "name": "stdout",
     "output_type": "stream",
     "text": [
      "108\n",
      "120\n",
      "132\n",
      "144\n",
      "156\n",
      "168\n",
      "180\n",
      "192\n",
      "204\n",
      "216\n",
      "228\n",
      "240\n",
      "252\n",
      "264\n",
      "276\n",
      "288\n",
      "300\n"
     ]
    }
   ],
   "source": [
    "rango1=99\n",
    "rango2=300\n",
    "while(rango1<=rango2):\n",
    "    rango1+=1\n",
    "    if(rango1%12!=0):\n",
    "        continue\n",
    "    print(rango1)"
   ]
  },
  {
   "attachments": {},
   "cell_type": "markdown",
   "metadata": {},
   "source": [
    "13) Utilizar la función **input()** que permite hacer ingresos por teclado, para encontrar números primos y dar la opción al usario de buscar el siguiente"
   ]
  },
  {
   "cell_type": "code",
   "execution_count": null,
   "metadata": {},
   "outputs": [],
   "source": [
    "print(\"Ingrese un número entero\")\n",
    "num = int(input()) \n",
    "\n",
    "buscarSig = True\n",
    "\n",
    "while buscarSig:\n",
    "    primo = True\n",
    "\n",
    "    for j in range(2, num):  \n",
    "        if num % j == 0:\n",
    "            primo = False\n",
    "            break\n",
    "\n",
    "    if primo:\n",
    "        print(str(num) + \" es primo\")\n",
    "        print(\"¿Buscar el siguiente? (si/no)\")\n",
    "        resp = input()\n",
    "\n",
    "        if resp.lower() == \"si\":\n",
    "            num += 1\n",
    "        else:\n",
    "            buscarSig = False\n",
    "    else:\n",
    "        num += 1\n",
    "\n"
   ]
  },
  {
   "attachments": {},
   "cell_type": "markdown",
   "metadata": {},
   "source": [
    "14) Crear un ciclo while que encuentre dentro del rango de 100 a 300 el primer número divisible por 3 y además múltiplo de 6"
   ]
  },
  {
   "cell_type": "code",
   "execution_count": 55,
   "metadata": {},
   "outputs": [
    {
     "name": "stdout",
     "output_type": "stream",
     "text": [
      "102\n"
     ]
    }
   ],
   "source": [
    "r1=99\n",
    "r2=300\n",
    "while(True):\n",
    "    r1+=1\n",
    "    if(r1%3==0 and r1%6==0):\n",
    "        print(r1)\n",
    "        break"
   ]
  }
 ],
 "metadata": {
  "interpreter": {
   "hash": "c85384e4cb51c8b72350f3a8712cc8351fdc3955e32a27f9b60c6242ab125f01"
  },
  "kernelspec": {
   "display_name": "Python 3 (ipykernel)",
   "language": "python",
   "name": "python3"
  },
  "language_info": {
   "codemirror_mode": {
    "name": "ipython",
    "version": 3
   },
   "file_extension": ".py",
   "mimetype": "text/x-python",
   "name": "python",
   "nbconvert_exporter": "python",
   "pygments_lexer": "ipython3",
   "version": "3.10.4"
  }
 },
 "nbformat": 4,
 "nbformat_minor": 4
}
