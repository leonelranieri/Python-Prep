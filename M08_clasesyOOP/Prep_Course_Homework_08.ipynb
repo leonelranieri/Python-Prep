{
 "cells": [
  {
   "attachments": {},
   "cell_type": "markdown",
   "metadata": {},
   "source": [
    "## Clases y Programación Orientada a Objetos"
   ]
  },
  {
   "attachments": {},
   "cell_type": "markdown",
   "metadata": {},
   "source": [
    "1) Crear la clase vehículo que contenga los atributos:<br>\n",
    "Color<br>\n",
    "Si es moto, auto, camioneta ó camión<br>\n",
    "Cilindrada del motor"
   ]
  },
  {
   "cell_type": "code",
   "execution_count": 11,
   "metadata": {},
   "outputs": [],
   "source": [
    "class Vehiculo:\n",
    "    def __init__(self, color, tipo, cilindrada):\n",
    "        self.__color=color\n",
    "        self.__tipo=tipo\n",
    "        self.__cilindrada=cilindrada"
   ]
  },
  {
   "attachments": {},
   "cell_type": "markdown",
   "metadata": {},
   "source": [
    "2) A la clase Vehiculo creada en el punto 1, agregar los siguientes métodos:<br>\n",
    "Acelerar<br>\n",
    "Frenar<br>\n",
    "Doblar<br>"
   ]
  },
  {
   "cell_type": "code",
   "execution_count": 13,
   "metadata": {},
   "outputs": [],
   "source": [
    "class Vehiculo:\n",
    "    def __init__(self, color, tipo, cilindrada):\n",
    "        self.__color=color\n",
    "        self.__tipo=tipo\n",
    "        self.__cilindrada=cilindrada\n",
    "        self.__velocidad=0\n",
    "        self.__angulo_de_giro=0\n",
    "        self.__direccion=\"\"\n",
    "    def acelerar(self, velocidad):\n",
    "        self.__velocidad+=velocidad\n",
    "    def frenar(self, velocidad):\n",
    "        self.__velocidad-=velocidad\n",
    "    def doblar(self, angulo_de_giro, direccion):\n",
    "        self.__angulo_de_giro+=angulo_de_giro\n",
    "        self.__direccion=direccion"
   ]
  },
  {
   "attachments": {},
   "cell_type": "markdown",
   "metadata": {},
   "source": [
    "3) Instanciar 3 objetos de la clase vehículo y ejecutar sus métodos, probar luego el resultado"
   ]
  },
  {
   "cell_type": "code",
   "execution_count": 14,
   "metadata": {},
   "outputs": [
    {
     "name": "stdout",
     "output_type": "stream",
     "text": [
      "-->Moto\n",
      "-->Auto\n",
      "-->Camion\n"
     ]
    }
   ],
   "source": [
    "moto=Vehiculo(\"rojo\", \"moto\", \"150cc\")\n",
    "auto=Vehiculo(\"blanco\", \"auto\", \"1.6\")\n",
    "camion=Vehiculo(\"negro\", \"camión\", \"20\")\n",
    "print(\"-->Moto\")\n",
    "moto.acelerar(20)\n",
    "moto.frenar(10)\n",
    "moto.doblar(30, \"izquierda\")\n",
    "moto.acelerar(50)\n",
    "print(\"-->Auto\")\n",
    "auto.acelerar(100)\n",
    "auto.frenar(30)\n",
    "print(\"-->Camion\")\n",
    "camion.acelerar(50)\n",
    "camion.doblar(45, \"derecha\")\n",
    "camion.frenar(15)"
   ]
  },
  {
   "attachments": {},
   "cell_type": "markdown",
   "metadata": {},
   "source": [
    "4) Agregar a la clase Vehiculo, un método que muestre su estado, es decir, a que velocidad se encuentra y su dirección. Y otro método que muestre color, tipo y cilindrada"
   ]
  },
  {
   "cell_type": "code",
   "execution_count": 35,
   "metadata": {},
   "outputs": [],
   "source": [
    "class Vehiculo:\n",
    "    def __init__(self, color, tipo, cilindrada):\n",
    "        self.__color = color\n",
    "        self.__tipo = tipo\n",
    "        self.__cilindrada = cilindrada\n",
    "        self.__velocidad = 0\n",
    "        self.__angulo_de_giro = 0\n",
    "        self.__direccion = \"centro\"\n",
    "\n",
    "    def acelerar(self, velocidad):\n",
    "        self.__velocidad += velocidad\n",
    "\n",
    "    def frenar(self, velocidad):\n",
    "        self.__velocidad -= velocidad\n",
    "\n",
    "    def doblar(self, angulo_de_giro, direccion):\n",
    "        self.__angulo_de_giro += angulo_de_giro\n",
    "        self.__direccion = direccion\n",
    "\n",
    "    def mostrar_estado(self):\n",
    "        print(\"La velocidad del vehículo es de:\", self.__velocidad, \"y la dirección:\", self.__angulo_de_giro, \"grados\", self.__direccion)\n",
    "\n",
    "    def mostrar_caracteristicas(self):\n",
    "        print(\"Color:\", self.__color, \", tipo de vehículo:\", self.__tipo, \", cilindrada:\", self.__cilindrada)\n"
   ]
  },
  {
   "cell_type": "code",
   "execution_count": 36,
   "metadata": {},
   "outputs": [
    {
     "name": "stdout",
     "output_type": "stream",
     "text": [
      "-->Moto\n",
      "Color: rojo , tipo de vehículo: moto , cilindrada: 150cc\n",
      "La velocidad del vehículo es de: 60 y la dirección: 30 grados izquierda\n",
      "-->Auto\n",
      "Color: blanco , tipo de vehículo: auto , cilindrada: 1.6\n",
      "La velocidad del vehículo es de: 70 y la dirección: 0 grados centro\n",
      "-->Camion\n",
      "Color: negro , tipo de vehículo: camión , cilindrada: 20\n",
      "La velocidad del vehículo es de: 35 y la dirección: 45 grados derecha\n"
     ]
    }
   ],
   "source": [
    "moto=Vehiculo(\"rojo\", \"moto\", \"150cc\")\n",
    "auto=Vehiculo(\"blanco\", \"auto\", \"1.6\")\n",
    "camion=Vehiculo(\"negro\", \"camión\", \"20\")\n",
    "print(\"-->Moto\")\n",
    "moto.acelerar(20)\n",
    "moto.frenar(10)\n",
    "moto.doblar(30, \"izquierda\")\n",
    "moto.acelerar(50)\n",
    "moto.mostrar_caracteristicas()\n",
    "moto.mostrar_estado()\n",
    "print(\"-->Auto\")\n",
    "auto.acelerar(100)\n",
    "auto.frenar(30)\n",
    "auto.mostrar_caracteristicas()\n",
    "auto.mostrar_estado()\n",
    "print(\"-->Camion\")\n",
    "camion.acelerar(50)\n",
    "camion.doblar(45, \"derecha\")\n",
    "camion.frenar(15)\n",
    "camion.mostrar_caracteristicas()\n",
    "camion.mostrar_estado()\n",
    "\n"
   ]
  },
  {
   "attachments": {},
   "cell_type": "markdown",
   "metadata": {},
   "source": [
    "5) Crear una clase que permita utilizar las funciones creadas en la práctica del módulo 7<br>\n",
    "Verificar Primo<br>\n",
    "Valor modal<br>\n",
    "Conversión grados<br>\n",
    "Factorial<br>"
   ]
  },
  {
   "cell_type": "code",
   "execution_count": 56,
   "metadata": {},
   "outputs": [],
   "source": [
    "class Utilidad:\n",
    "    def __init__(self):\n",
    "        pass\n",
    "    \n",
    "    #ES PRIMO\n",
    "    def es_primo(self, num):\n",
    "        '''Función que determina si un número es primo o no.\n",
    "        Retorna un booleano. '''\n",
    "        if(num < 2):\n",
    "            return False\n",
    "        for i in range(2, num):\n",
    "            if(num%i==0):\n",
    "                return False\n",
    "        return True\n",
    "\n",
    "    #VALOR MODAL \n",
    "    def mayor_ocurrencia(self, lista):\n",
    "        '''Determina, dada una lista, el número que aparece más veces,\n",
    "            y la cantidad de veces que aparece.'''\n",
    "        if(len(lista)==0):\n",
    "            return 0, 0\n",
    "        max=-999\n",
    "        j=-1\n",
    "        for i,num in enumerate(lista):\n",
    "            cant=lista.count(num)\n",
    "        if(cant>max):\n",
    "            max=cant\n",
    "            j=i\n",
    "        return lista[j], cant\n",
    "\n",
    "\n",
    "    #CONVERSIÓN DE UNIDADES \n",
    "    def conversion_de_grados(self, valor, medida_origen, medida_destino):\n",
    "        '''Dado un valor y dos unidades de medida, se realiza\n",
    "            la conversión desde la medida de origen a la medida destino'''\n",
    "        def de_celcius_a_farenheit(c):\n",
    "            return (c*(9/5))+32\n",
    "        def de_celcius_a_kelvin(c):\n",
    "            return c+273.15\n",
    "        def de_farenheit_a_celcius(f):\n",
    "            return (f-32)/(9/5)\n",
    "        def de_kelvin_a_celcius(k):\n",
    "            return k-273.15\n",
    "        def de_farenheit_a_kelvin(f):\n",
    "            return de_celcius_a_kelvin(de_farenheit_a_celcius(f))\n",
    "        def de_kelvin_a_farenheit(k):\n",
    "            return de_celcius_a_farenheit(de_kelvin_a_celcius(k))\n",
    "        if(medida_origen.lower()==\"celcius\"):\n",
    "            if(medida_destino.lower()==\"farenheit\"):\n",
    "                return de_celcius_a_farenheit(valor)\n",
    "            elif(medida_destino.lower()==\"kelvin\"):\n",
    "                return de_celcius_a_kelvin(valor)\n",
    "            elif(medida_destino.lower()==\"celcius\"):\n",
    "                return valor\n",
    "            else:\n",
    "                print(\"Medida destino incorrecta\")\n",
    "        elif(medida_origen.lower()==\"farenheit\"):   \n",
    "            if(medida_destino.lower()==\"celcius\"):\n",
    "                return de_farenheit_a_celcius(valor)\n",
    "            elif(medida_destino.lower()==\"kelvin\"):\n",
    "                return de_farenheit_a_kelvin(valor)\n",
    "            elif(medida_destino.lower()==\"farenheit\"):\n",
    "                return valor\n",
    "            else:\n",
    "                print(\"Medida destino incorrecta\")\n",
    "        elif(medida_origen.lower()==\"kelvin\"):\n",
    "            if(medida_destino.lower()==\"celcius\"):\n",
    "                return de_kelvin_a_celcius(valor)\n",
    "            elif (medida_destino.lower()==\"farenheit\"):\n",
    "                return de_kelvin_a_farenheit(valor)\n",
    "            elif(medida_destino.lower()==\"kelvin\"):\n",
    "                return valor\n",
    "            else:\n",
    "                print(\"Medida destino incorrecta\")\n",
    "        else:\n",
    "            print(\"Medida origen incorrecta\")\n",
    "    \n",
    "    # FACTORIAL\n",
    "    def factorial(self, num):\n",
    "        '''Calcula el factorial de un número natural'''\n",
    "        if(type(num)!=int):\n",
    "            return \"El número debe ser del conjunto de los Naturales\"\n",
    "        if(num<0):\n",
    "            return \"El número no debe ser negativo\"\n",
    "        if(num <=1):\n",
    "            return 1\n",
    "        num=num*self.factorial(num-1)\n",
    "        return num"
   ]
  },
  {
   "attachments": {},
   "cell_type": "markdown",
   "metadata": {},
   "source": [
    "6) Probar las funciones incorporadas en la clase del punto 5"
   ]
  },
  {
   "cell_type": "code",
   "execution_count": 57,
   "metadata": {},
   "outputs": [
    {
     "name": "stdout",
     "output_type": "stream",
     "text": [
      "True\n",
      "10 4\n",
      "50.0\n",
      "120\n"
     ]
    }
   ],
   "source": [
    "utilidad=Utilidad()\n",
    "print(utilidad.es_primo(11))\n",
    "lista=[10,10,9,9,8,7,9,10,7,10]\n",
    "i,j=utilidad.mayor_ocurrencia(lista)\n",
    "print(i,j)\n",
    "print(utilidad.conversion_de_grados(10,\"celcius\",\"farenheit\"))\n",
    "print(utilidad.factorial(5))\n"
   ]
  },
  {
   "attachments": {},
   "cell_type": "markdown",
   "metadata": {},
   "source": [
    "7) Es necesario que la clase creada en el punto 5 contenga una lista, sobre la cual se apliquen las funciones incorporadas"
   ]
  },
  {
   "cell_type": "code",
   "execution_count": 82,
   "metadata": {},
   "outputs": [],
   "source": [
    "class Utilidad:\n",
    "    def __init__(self, lista):\n",
    "        self.__lista=lista\n",
    "    \n",
    "    #ES PRIMO\n",
    "    def __es_primo_priv(self, num):\n",
    "        '''Función que determina si un número es primo o no.\n",
    "        Retorna un booleano. '''\n",
    "        if(num < 2):\n",
    "            return False\n",
    "        for i in range(2, num):\n",
    "            if(num%i==0):\n",
    "                return False\n",
    "        return True\n",
    "\n",
    "    #ES PRIMO CON LA LISTA\n",
    "    def es_primo(self):\n",
    "        '''Función que, dada una lista determina si un número es primo o no.\n",
    "        Retorna un booleano. '''\n",
    "        for i in self.__lista:\n",
    "            if(self.__es_primo_priv(i)):\n",
    "                print(\"el número \"+str(i)+\" es primo\")\n",
    "            else:\n",
    "                print(\"el número \"+str(i)+\" no es primo\")\n",
    "\n",
    "    #VALOR MODAL \n",
    "    def mayor_ocurrencia(self):\n",
    "        '''Determina, dada una lista, el número que aparece más veces,\n",
    "            y la cantidad de veces que aparece.'''\n",
    "        if(len(self.__lista)==0):\n",
    "            return 0, 0\n",
    "        else:\n",
    "            max_ocurrencia=-999\n",
    "            num_ocurrencia=-1\n",
    "            for num in self.__lista:\n",
    "                cant=self.__lista.count(num)\n",
    "                if(cant>max_ocurrencia):\n",
    "                    max_ocurrencia=cant\n",
    "                    num_ocurrencia=num  \n",
    "        return num_ocurrencia, max_ocurrencia\n",
    "\n",
    "\n",
    "    #CONVERSIÓN DE UNIDADES \n",
    "    def conversion_de_grados(self, valor, medida_origen, medida_destino):\n",
    "        '''Dado un valor y dos unidades de medida, se realiza\n",
    "            la conversión desde la medida de origen a la medida destino'''\n",
    "        def de_celcius_a_farenheit(c):\n",
    "            return (c*(9/5))+32\n",
    "        def de_celcius_a_kelvin(c):\n",
    "            return c+273.15\n",
    "        def de_farenheit_a_celcius(f):\n",
    "            return (f-32)/(9/5)\n",
    "        def de_kelvin_a_celcius(k):\n",
    "            return k-273.15\n",
    "        def de_farenheit_a_kelvin(f):\n",
    "            return de_celcius_a_kelvin(de_farenheit_a_celcius(f))\n",
    "        def de_kelvin_a_farenheit(k):\n",
    "            return de_celcius_a_farenheit(de_kelvin_a_celcius(k))\n",
    "        if(medida_origen.lower()==\"celcius\"):\n",
    "            if(medida_destino.lower()==\"farenheit\"):\n",
    "                return de_celcius_a_farenheit(valor)\n",
    "            elif(medida_destino.lower()==\"kelvin\"):\n",
    "                return de_celcius_a_kelvin(valor)\n",
    "            elif(medida_destino.lower()==\"celcius\"):\n",
    "                return valor\n",
    "            else:\n",
    "                print(\"Medida destino incorrecta\")\n",
    "        elif(medida_origen.lower()==\"farenheit\"):   \n",
    "            if(medida_destino.lower()==\"celcius\"):\n",
    "                return de_farenheit_a_celcius(valor)\n",
    "            elif(medida_destino.lower()==\"kelvin\"):\n",
    "                return de_farenheit_a_kelvin(valor)\n",
    "            elif(medida_destino.lower()==\"farenheit\"):\n",
    "                return valor\n",
    "            else:\n",
    "                print(\"Medida destino incorrecta\")\n",
    "        elif(medida_origen.lower()==\"kelvin\"):\n",
    "            if(medida_destino.lower()==\"celcius\"):\n",
    "                return de_kelvin_a_celcius(valor)\n",
    "            elif (medida_destino.lower()==\"farenheit\"):\n",
    "                return de_kelvin_a_farenheit(valor)\n",
    "            elif(medida_destino.lower()==\"kelvin\"):\n",
    "                return valor\n",
    "            else:\n",
    "                print(\"Medida destino incorrecta\")\n",
    "        else:\n",
    "            print(\"Medida origen incorrecta\")\n",
    "    \n",
    "    # FACTORIAL\n",
    "    def factorial(self, num):\n",
    "        '''Calcula el factorial de un número natural'''\n",
    "        if(type(num)!=int):\n",
    "            return \"El número debe ser del conjunto de los Naturales\"\n",
    "        if(num<0):\n",
    "            return \"El número no debe ser negativo\"\n",
    "        if(num <=1):\n",
    "            return 1\n",
    "        num=num*self.factorial(num-1)\n",
    "        return num"
   ]
  },
  {
   "cell_type": "code",
   "execution_count": 83,
   "metadata": {},
   "outputs": [
    {
     "name": "stdout",
     "output_type": "stream",
     "text": [
      "el número 10 no es primo\n",
      "el número 3 es primo\n",
      "el número 11 es primo\n",
      "el número 3 es primo\n",
      "el número 2 es primo\n",
      "el número 10 no es primo\n",
      "el número 5 es primo\n",
      "el número 10 no es primo\n",
      "el número 198 no es primo\n",
      "el número 193 es primo\n",
      "el número 10 no es primo\n",
      "el número 3 es primo\n",
      "el número 11 es primo\n",
      "10 4\n"
     ]
    }
   ],
   "source": [
    "u=Utilidad([10,3,11,3,2,10,5,10,198,193,10,3,11])\n",
    "u.es_primo()\n",
    "i,j=u.mayor_ocurrencia()\n",
    "print(i,j)"
   ]
  },
  {
   "attachments": {},
   "cell_type": "markdown",
   "metadata": {},
   "source": [
    "8) Crear un archivo .py aparte y ubicar allí la clase generada en el punto anterior. Luego realizar la importación del módulo y probar alguna de sus funciones"
   ]
  },
  {
   "cell_type": "code",
   "execution_count": 89,
   "metadata": {},
   "outputs": [
    {
     "name": "stdout",
     "output_type": "stream",
     "text": [
      "el número 10 no es primo\n",
      "el número 9 no es primo\n",
      "el número 8 no es primo\n",
      "el número 7 es primo\n",
      "el número 6 no es primo\n",
      "el número 5 es primo\n",
      "el número 3 es primo\n",
      "el número 2 es primo\n",
      "el número 1 no es primo\n",
      "el número 0 no es primo\n",
      "el número 10 no es primo\n",
      "el número 9 no es primo\n",
      "el número 9 no es primo\n",
      "el número 8 no es primo\n",
      "el número 7 es primo\n",
      "el número 7 es primo\n",
      "el número 6 no es primo\n",
      "el número 5 es primo\n",
      "el número 5 es primo\n",
      "el número 4 no es primo\n",
      "el número 3 es primo\n",
      "el número 3 es primo\n",
      "el número 2 es primo\n",
      "el número 1 no es primo\n",
      "el número 1 no es primo\n",
      "el número 0 no es primo\n",
      "9 3\n"
     ]
    }
   ],
   "source": [
    "from utilidad import *\n",
    "\n",
    "ut=Utilidad([10,9,8,7,6,5,3,2,1,0,10,9,9,8,7,7,6,5,5,4,3,3,2,1,1,0])\n",
    "ut.es_primo()\n",
    "i,j=ut.mayor_ocurrencia()\n",
    "print(i, j)"
   ]
  }
 ],
 "metadata": {
  "interpreter": {
   "hash": "c85384e4cb51c8b72350f3a8712cc8351fdc3955e32a27f9b60c6242ab125f01"
  },
  "kernelspec": {
   "display_name": "Python 3 (ipykernel)",
   "language": "python",
   "name": "python3"
  },
  "language_info": {
   "codemirror_mode": {
    "name": "ipython",
    "version": 3
   },
   "file_extension": ".py",
   "mimetype": "text/x-python",
   "name": "python",
   "nbconvert_exporter": "python",
   "pygments_lexer": "ipython3",
   "version": "3.10.4"
  }
 },
 "nbformat": 4,
 "nbformat_minor": 4
}
