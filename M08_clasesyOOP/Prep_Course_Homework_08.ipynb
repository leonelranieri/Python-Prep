{
 "cells": [
  {
   "attachments": {},
   "cell_type": "markdown",
   "metadata": {},
   "source": [
    "## Clases y Programación Orientada a Objetos"
   ]
  },
  {
   "attachments": {},
   "cell_type": "markdown",
   "metadata": {},
   "source": [
    "1) Crear la clase vehículo que contenga los atributos:<br>\n",
    "Color<br>\n",
    "Si es moto, auto, camioneta ó camión<br>\n",
    "Cilindrada del motor"
   ]
  },
  {
   "cell_type": "code",
   "execution_count": 1,
   "metadata": {},
   "outputs": [],
   "source": [
    "class Vehiculo:\n",
    "    def __init__(self, color, tipo, cilindrada):\n",
    "        self.color=color\n",
    "        self.tipo=tipo\n",
    "        self.cilindrada=cilindrada"
   ]
  },
  {
   "attachments": {},
   "cell_type": "markdown",
   "metadata": {},
   "source": [
    "2) A la clase Vehiculo creada en el punto 1, agregar los siguientes métodos:<br>\n",
    "Acelerar<br>\n",
    "Frenar<br>\n",
    "Doblar<br>"
   ]
  },
  {
   "cell_type": "code",
   "execution_count": 10,
   "metadata": {},
   "outputs": [],
   "source": [
    "class Vehiculo:\n",
    "    def __init__(self, color, tipo, cilindrada):\n",
    "        self.color=color\n",
    "        self.tipo=tipo\n",
    "        self.cilindrada=cilindrada\n",
    "        self.velocidad=0\n",
    "        self.angulo_de_giro=0\n",
    "\n",
    "    def acelerar(self, velocidad):\n",
    "        self.velocidad+=velocidad\n",
    "\n",
    "    def frenar(self, velocidad):\n",
    "        self.velocidad-=velocidad\n",
    "\n",
    "    def doblar(self, angulo_de_giro):\n",
    "        self.angulo_de_giro+=angulo_de_giro"
   ]
  },
  {
   "attachments": {},
   "cell_type": "markdown",
   "metadata": {},
   "source": [
    "3) Instanciar 3 objetos de la clase vehículo y ejecutar sus métodos, probar luego el resultado"
   ]
  },
  {
   "cell_type": "code",
   "execution_count": 5,
   "metadata": {},
   "outputs": [],
   "source": [
    "moto=Vehiculo(\"rojo\", \"moto\", \"150cc\")\n",
    "auto=Vehiculo(\"blanco\", \"auto\", \"1.6\")\n",
    "camion=Vehiculo(\"negro\", \"camión\", \"20\")"
   ]
  },
  {
   "cell_type": "code",
   "execution_count": 11,
   "metadata": {},
   "outputs": [],
   "source": [
    "moto.acelerar(40)\n",
    "auto.acelerar(60)\n",
    "camion.acelerar(30)\n",
    "\n",
    "moto.doblar(30)\n",
    "camion.doblar(-30)\n",
    "\n",
    "auto.frenar(-50)"
   ]
  },
  {
   "attachments": {},
   "cell_type": "markdown",
   "metadata": {},
   "source": [
    "4) Agregar a la clase Vehiculo, un método que muestre su estado, es decir, a que velocidad se encuentra y su dirección. Y otro método que muestre color, tipo y cilindrada"
   ]
  },
  {
   "cell_type": "code",
   "execution_count": 21,
   "metadata": {},
   "outputs": [],
   "source": [
    "class Vehiculo:\n",
    "    def __init__(self, color, tipo, cilindrada):\n",
    "        self.__color = color\n",
    "        self.__tipo = tipo\n",
    "        self.__cilindrada = cilindrada\n",
    "        self.__velocidad = 0\n",
    "        self.__angulo_de_giro = 0\n",
    "        self.__direccion = \"centro\"\n",
    "\n",
    "    def acelerar(self, velocidad):\n",
    "        self.__velocidad += velocidad\n",
    "\n",
    "    def frenar(self, velocidad):\n",
    "        self.__velocidad -= velocidad\n",
    "\n",
    "    def doblar(self, angulo_de_giro):\n",
    "        self.__angulo_de_giro += angulo_de_giro\n",
    "\n",
    "    def mostrar_estado(self):\n",
    "        print(\"La velocidad del vehículo es de:\", self.__velocidad, \"y la dirección:\", self.__angulo_de_giro)\n",
    "\n",
    "    def mostrar_caracteristicas(self):\n",
    "        print(\"Color:\", self.__color, \", tipo de vehículo:\", self.__tipo, \", cilindrada:\", self.__cilindrada)\n"
   ]
  },
  {
   "cell_type": "code",
   "execution_count": 25,
   "metadata": {},
   "outputs": [
    {
     "name": "stdout",
     "output_type": "stream",
     "text": [
      "Color: rojo , tipo de vehículo: moto , cilindrada: 150cc\n",
      "La velocidad del vehículo es de: 40 y la dirección: 30\n",
      "\n",
      "Color: blanco , tipo de vehículo: auto , cilindrada: 1.6\n",
      "La velocidad del vehículo es de: 110 y la dirección: 0\n",
      "\n",
      "Color: negro , tipo de vehículo: camión , cilindrada: 20\n",
      "La velocidad del vehículo es de: 30 y la dirección: -30\n"
     ]
    }
   ],
   "source": [
    "moto=Vehiculo(\"rojo\", \"moto\", \"150cc\")\n",
    "auto=Vehiculo(\"blanco\", \"auto\", \"1.6\")\n",
    "camion=Vehiculo(\"negro\", \"camión\", \"20\")\n",
    "\n",
    "moto.acelerar(40)\n",
    "auto.acelerar(60)\n",
    "camion.acelerar(30)\n",
    "\n",
    "moto.doblar(30)\n",
    "camion.doblar(-30)\n",
    "\n",
    "auto.frenar(-50)\n",
    "\n",
    "moto.mostrar_caracteristicas()\n",
    "moto.mostrar_estado()\n",
    "print()\n",
    "auto.mostrar_caracteristicas()\n",
    "auto.mostrar_estado()\n",
    "print()\n",
    "camion.mostrar_caracteristicas()\n",
    "camion.mostrar_estado()"
   ]
  },
  {
   "attachments": {},
   "cell_type": "markdown",
   "metadata": {},
   "source": [
    "5) Crear una clase que permita utilizar las funciones creadas en la práctica del módulo 7<br>\n",
    "Verificar Primo<br>\n",
    "Valor modal<br>\n",
    "Conversión grados<br>\n",
    "Factorial<br>"
   ]
  },
  {
   "cell_type": "code",
   "execution_count": 33,
   "metadata": {},
   "outputs": [],
   "source": [
    "class Utilidades:\n",
    "    def __init__(self):\n",
    "        pass\n",
    "    \n",
    "    #ES PRIMO\n",
    "    def es_primo(self, num):\n",
    "        '''Función que determina si un número es primo o no.\n",
    "        Retorna un booleano. '''\n",
    "        if(num < 2):\n",
    "            return False\n",
    "        for i in range(2, num):\n",
    "            if(num%i==0):\n",
    "                return False\n",
    "                break\n",
    "        return True\n",
    "\n",
    "    #VALOR MODAL \n",
    "    def mayor_ocurrencia(self, lista):\n",
    "        '''Determina, dada una lista, el número que aparece más veces,\n",
    "            y la cantidad de veces que aparece.'''\n",
    "        if(len(lista)==0):\n",
    "            return 0, 0\n",
    "        max=-999\n",
    "        j=-1\n",
    "        for i,num in enumerate(lista):\n",
    "            cant=lista.count(num)\n",
    "        if(cant>max):\n",
    "            max=cant\n",
    "            j=i\n",
    "        return lista[j], cant\n",
    "\n",
    "\n",
    "    #CONVERSIÓN DE UNIDADES \n",
    "    def conversion_de_grados(self, valor, medida_origen, medida_destino):\n",
    "        '''Dado un valor y dos unidades de medida, se realiza\n",
    "            la conversión desde la medida de origen a la medida destino'''\n",
    "        def de_celcius_a_farenheit(c):\n",
    "            return (c*(9/5))+32\n",
    "        def de_celcius_a_kelvin(c):\n",
    "            return c+273.15\n",
    "        def de_farenheit_a_celcius(f):\n",
    "            return (f-32)/(9/5)\n",
    "        def de_kelvin_a_celcius(k):\n",
    "            return k-273.15\n",
    "        def de_farenheit_a_kelvin(f):\n",
    "            return de_celcius_a_kelvin(de_farenheit_a_celcius(f))\n",
    "        def de_kelvin_a_farenheit(k):\n",
    "            return de_celcius_a_farenheit(de_kelvin_a_celcius(k))\n",
    "        v1=int(valor)    \n",
    "        if(type(v1) != int):\n",
    "            print(f'{valor} no es número')\n",
    "        if(medida_origen.lower()==\"celcius\"):\n",
    "            if(medida_destino.lower()==\"farenheit\"):\n",
    "                return de_celcius_a_farenheit(v1)\n",
    "            elif(medida_destino.lower()==\"kelvin\"):\n",
    "                return de_celcius_a_kelvin(v1)\n",
    "            elif(medida_destino.lower()==\"celcius\"):\n",
    "                return v1\n",
    "            else:\n",
    "                print(\"Medida destino incorrecta\")\n",
    "        elif(medida_origen.lower()==\"farenheit\"):   \n",
    "            if(medida_destino.lower()==\"celcius\"):\n",
    "                return de_farenheit_a_celcius(v1)\n",
    "            elif(medida_destino.lower()==\"kelvin\"):\n",
    "                return de_farenheit_a_kelvin(v1)\n",
    "            elif(medida_destino.lower()==\"farenheit\"):\n",
    "                return v1\n",
    "            else:\n",
    "                print(\"Medida destino incorrecta\")\n",
    "        elif(medida_origen.lower()==\"kelvin\"):\n",
    "            if(medida_destino.lower()==\"celcius\"):\n",
    "                return de_kelvin_a_celcius(v1)\n",
    "            elif (medida_destino.lower()==\"farenheit\"):\n",
    "                return de_kelvin_a_farenheit(v1)\n",
    "            elif(medida_destino.lower()==\"kelvin\"):\n",
    "                return v1\n",
    "            else:\n",
    "                print(\"Medida destino incorrecta\")\n",
    "        else:\n",
    "            print(\"Medida origen incorrecta\")\n",
    "    \n",
    "    # FACTORIAL\n",
    "    def factorial(self, num):\n",
    "        '''Calcula el factorial de un número natural'''\n",
    "        if(type(num)!=int):\n",
    "            return \"Debe enviar un número dentro del conjunto de los Naturales\"\n",
    "        n=int(num)\n",
    "        if(n<0):\n",
    "            return \"El número no debe ser negativo\"\n",
    "        if(n <=1):\n",
    "            return 1\n",
    "        n=n*self.factorial(n-1)\n",
    "        return n"
   ]
  },
  {
   "attachments": {},
   "cell_type": "markdown",
   "metadata": {},
   "source": [
    "6) Probar las funciones incorporadas en la clase del punto 5"
   ]
  },
  {
   "cell_type": "code",
   "execution_count": 36,
   "metadata": {},
   "outputs": [
    {
     "name": "stdout",
     "output_type": "stream",
     "text": [
      "True\n",
      "El número que más aparece es el 10, se repite 4 veces\n",
      "50.0\n",
      "120\n"
     ]
    }
   ],
   "source": [
    "util=Utilidades()\n",
    "\n",
    "print(util.es_primo(11))\n",
    "lista=[10,10,9,9,8,7,9,10,7,10]\n",
    "num,ocurrencias=util.mayor_ocurrencia(lista)\n",
    "print(f'El número que más aparece es el {num}, se repite {ocurrencias} veces')\n",
    "print(util.conversion_de_grados(10,\"celcius\",\"farenheit\"))\n",
    "print(util.factorial(5))\n",
    "\n",
    "\n"
   ]
  },
  {
   "attachments": {},
   "cell_type": "markdown",
   "metadata": {},
   "source": [
    "7) Es necesario que la clase creada en el punto 5 contenga una lista, sobre la cual se apliquen las funciones incorporadas"
   ]
  },
  {
   "cell_type": "code",
   "execution_count": 73,
   "metadata": {},
   "outputs": [],
   "source": [
    "class Utilidad:\n",
    "    def __init__(self, lista_de_numeros):\n",
    "        self.lista=lista_de_numeros\n",
    "    \n",
    "\n",
    "    def es_primo(self):\n",
    "        '''Función que, dada una lista determina si un número es primo o no.\n",
    "        Retorna un booleano. '''\n",
    "        conj=set(self.lista)\n",
    "        for i in conj:\n",
    "            if(self.__es_primo(i)):\n",
    "                print(\"El número \", str(i), \" ES primo\")\n",
    "            else:\n",
    "                print(\"El número \", str(i), \" NO ES primo\")\n",
    "\n",
    "    def __es_primo(self, num):\n",
    "        '''Función que determina si un número es primo o no.\n",
    "        Retorna un booleano. '''\n",
    "        if(num < 2):\n",
    "            return False\n",
    "        for i in range(2, num):\n",
    "            if(num%i==0):\n",
    "                return False\n",
    "        return True\n",
    "\n",
    "\n",
    "    #VALOR MODAL \n",
    "    def mayor_ocurrencia(self):\n",
    "        '''Determina, dada una lista, el número que aparece más veces,\n",
    "            y la cantidad de veces que aparece.'''\n",
    "        if(len(self.lista)==0):\n",
    "            print(\"La lista está vacía\")\n",
    "            return None\n",
    "        else:\n",
    "            max_ocurrencia=-999\n",
    "            num_ocurrencia=-1\n",
    "            for num in self.lista:\n",
    "                cant=self.lista.count(num)\n",
    "                if(cant>max_ocurrencia):\n",
    "                    max_ocurrencia=cant\n",
    "                    num_ocurrencia=num  \n",
    "        return num_ocurrencia, max_ocurrencia\n",
    "\n",
    "    def conversion_de_grados(self, origen, destino):\n",
    "        medidas=[\"celcius\", \"farenheit\", \"kelvin\"]\n",
    "        if not(origen in medidas):\n",
    "            print(f'{origen} no es una medida')\n",
    "            return \n",
    "        if not(destino in medidas):\n",
    "            print(f'{destino} no es una medida')\n",
    "            return \n",
    "        conjunto=set(self.lista)\n",
    "        for i in conjunto:\n",
    "            print(i, \" grado \", origen, \" son \", self.__conversion_de_grados(i, origen, destino), \" grados\")\n",
    "\n",
    "\n",
    "    #CONVERSIÓN DE UNIDADES \n",
    "    def __conversion_de_grados(self, valor, medida_origen, medida_destino):\n",
    "        '''Dado un valor y dos unidades de medida, se realiza\n",
    "            la conversión desde la medida de origen a la medida destino'''\n",
    "        def de_celcius_a_farenheit(c):\n",
    "            return (c*(9/5))+32\n",
    "        def de_celcius_a_kelvin(c):\n",
    "            return c+273.15\n",
    "        def de_farenheit_a_celcius(f):\n",
    "            return (f-32)/(9/5)\n",
    "        def de_kelvin_a_celcius(k):\n",
    "            return k-273.15\n",
    "        def de_farenheit_a_kelvin(f):\n",
    "            return de_celcius_a_kelvin(de_farenheit_a_celcius(f))\n",
    "        def de_kelvin_a_farenheit(k):\n",
    "            return de_celcius_a_farenheit(de_kelvin_a_celcius(k))\n",
    "        if(medida_origen.lower()==\"celcius\"):\n",
    "            if(medida_destino.lower()==\"farenheit\"):\n",
    "                return de_celcius_a_farenheit(valor)\n",
    "            elif(medida_destino.lower()==\"kelvin\"):\n",
    "                return de_celcius_a_kelvin(valor)\n",
    "            elif(medida_destino.lower()==\"celcius\"):\n",
    "                return valor\n",
    "            else:\n",
    "                print(\"Medida destino incorrecta\")\n",
    "        elif(medida_origen.lower()==\"farenheit\"):   \n",
    "            if(medida_destino.lower()==\"celcius\"):\n",
    "                return de_farenheit_a_celcius(valor)\n",
    "            elif(medida_destino.lower()==\"kelvin\"):\n",
    "                return de_farenheit_a_kelvin(valor)\n",
    "            elif(medida_destino.lower()==\"farenheit\"):\n",
    "                return valor\n",
    "            else:\n",
    "                print(\"Medida destino incorrecta\")\n",
    "        elif(medida_origen.lower()==\"kelvin\"):\n",
    "            if(medida_destino.lower()==\"celcius\"):\n",
    "                return de_kelvin_a_celcius(valor)\n",
    "            elif (medida_destino.lower()==\"farenheit\"):\n",
    "                return de_kelvin_a_farenheit(valor)\n",
    "            elif(medida_destino.lower()==\"kelvin\"):\n",
    "                return valor\n",
    "            else:\n",
    "                print(\"Medida destino incorrecta\")\n",
    "        else:\n",
    "            print(\"Medida origen incorrecta\")\n",
    "    \n",
    "    def factorial(self):\n",
    "        conj=set(self.lista)\n",
    "        for i in conj:\n",
    "            print(\"El factorial de \", i, \" es \", self.__factorial(i))\n",
    "\n",
    "    def __factorial(self, num):\n",
    "        '''Calcula el factorial de un número natural'''\n",
    "        if(type(num)!=int):\n",
    "            return \"El número debe ser del conjunto de los Naturales\"\n",
    "        if(num<0):\n",
    "            return \"El número no debe ser negativo\"\n",
    "        if(num <=1):\n",
    "            return 1\n",
    "        num=num*self.__factorial(num-1)\n",
    "        return num"
   ]
  },
  {
   "cell_type": "code",
   "execution_count": 71,
   "metadata": {},
   "outputs": [],
   "source": [
    "u=Utilidad([10,3,11,3,2,10,5,10,198,193,10,3,11])"
   ]
  },
  {
   "cell_type": "code",
   "execution_count": 51,
   "metadata": {},
   "outputs": [
    {
     "name": "stdout",
     "output_type": "stream",
     "text": [
      "El número  193  ES primo\n",
      "El número  2  ES primo\n",
      "El número  3  ES primo\n",
      "El número  5  ES primo\n",
      "El número  198  NO ES primo\n",
      "El número  10  NO ES primo\n",
      "El número  11  ES primo\n"
     ]
    }
   ],
   "source": [
    "u.es_primo()"
   ]
  },
  {
   "cell_type": "code",
   "execution_count": 63,
   "metadata": {},
   "outputs": [
    {
     "name": "stdout",
     "output_type": "stream",
     "text": [
      "El factorial de  193  es  68514381077363375931297585133106871211263298280533036933892918251948709516798243984304128734094417522976396644365371353517785270323373257977640029350380903895427571177891906446331289795819093455185030994882772103070488137552785487937736505567155518212479976352319939401778202578492759254382623135959961447778222080000000000000000000000000000000000000000000000\n",
      "El factorial de  2  es  2\n",
      "El factorial de  3  es  6\n",
      "El factorial de  5  es  120\n",
      "El factorial de  198  es  19815524305648002601818171204326257846611456725808373449616646563928629396065410626138298593265945324225558093942704493222553838950820027765375040827960551033001579328411138624055200727234232302046524227142061137986535960488148111891395081467526982493475408477527124840709196781511817187496273890924527108598562553359394406400000000000000000000000000000000000000000000000\n",
      "El factorial de  10  es  3628800\n",
      "El factorial de  11  es  39916800\n"
     ]
    }
   ],
   "source": [
    "u.factorial()"
   ]
  },
  {
   "cell_type": "code",
   "execution_count": 67,
   "metadata": {},
   "outputs": [
    {
     "name": "stdout",
     "output_type": "stream",
     "text": [
      "El número que más veces aparece es el 10, y se repite 4 veces.\n"
     ]
    }
   ],
   "source": [
    "num, cant=u.mayor_ocurrencia()\n",
    "print(f'El número que más veces aparece es el {num}, y se repite {cant} veces.')"
   ]
  },
  {
   "cell_type": "code",
   "execution_count": 74,
   "metadata": {},
   "outputs": [
    {
     "name": "stdout",
     "output_type": "stream",
     "text": [
      "193  grado  celcius  son  466.15  grados\n",
      "2  grado  celcius  son  275.15  grados\n",
      "3  grado  celcius  son  276.15  grados\n",
      "5  grado  celcius  son  278.15  grados\n",
      "198  grado  celcius  son  471.15  grados\n",
      "10  grado  celcius  son  283.15  grados\n",
      "11  grado  celcius  son  284.15  grados\n"
     ]
    }
   ],
   "source": [
    "u.conversion_de_grados(\"celcius\", \"kelvin\")"
   ]
  },
  {
   "attachments": {},
   "cell_type": "markdown",
   "metadata": {},
   "source": [
    "8) Crear un archivo .py aparte y ubicar allí la clase generada en el punto anterior. Luego realizar la importación del módulo y probar alguna de sus funciones"
   ]
  },
  {
   "cell_type": "code",
   "execution_count": 75,
   "metadata": {},
   "outputs": [],
   "source": [
    "from utilidades import *\n",
    "\n",
    "ut=Utilidad([10,9,8,7,6,5,3,2,1,0,10,9,9,8,7,7,6,5,5,4,3,3,2,1,1,0])"
   ]
  },
  {
   "cell_type": "code",
   "execution_count": 77,
   "metadata": {},
   "outputs": [
    {
     "name": "stdout",
     "output_type": "stream",
     "text": [
      "0  grado  farenheit  son  -17.77777777777778  grados\n",
      "1  grado  farenheit  son  -17.22222222222222  grados\n",
      "2  grado  farenheit  son  -16.666666666666668  grados\n",
      "3  grado  farenheit  son  -16.11111111111111  grados\n",
      "4  grado  farenheit  son  -15.555555555555555  grados\n",
      "5  grado  farenheit  son  -15.0  grados\n",
      "6  grado  farenheit  son  -14.444444444444445  grados\n",
      "7  grado  farenheit  son  -13.88888888888889  grados\n",
      "8  grado  farenheit  son  -13.333333333333332  grados\n",
      "9  grado  farenheit  son  -12.777777777777777  grados\n",
      "10  grado  farenheit  son  -12.222222222222221  grados\n"
     ]
    }
   ],
   "source": [
    "ut.conversion_de_grados(\"farenheit\", \"celcius\")"
   ]
  },
  {
   "cell_type": "code",
   "execution_count": 78,
   "metadata": {},
   "outputs": [
    {
     "name": "stdout",
     "output_type": "stream",
     "text": [
      "El número  0  NO ES primo\n",
      "El número  1  NO ES primo\n",
      "El número  2  ES primo\n",
      "El número  3  ES primo\n",
      "El número  4  NO ES primo\n",
      "El número  5  ES primo\n",
      "El número  6  NO ES primo\n",
      "El número  7  ES primo\n",
      "El número  8  NO ES primo\n",
      "El número  9  NO ES primo\n",
      "El número  10  NO ES primo\n"
     ]
    }
   ],
   "source": [
    "ut.es_primo()"
   ]
  },
  {
   "cell_type": "code",
   "execution_count": 80,
   "metadata": {},
   "outputs": [
    {
     "name": "stdout",
     "output_type": "stream",
     "text": [
      "El número 9, es el que más veces aparece, se repite 3 veces\n"
     ]
    }
   ],
   "source": [
    "n, m=ut.mayor_ocurrencia()\n",
    "print(f'El número {n}, es el que más veces aparece, se repite {m} veces')"
   ]
  },
  {
   "cell_type": "code",
   "execution_count": 81,
   "metadata": {},
   "outputs": [
    {
     "name": "stdout",
     "output_type": "stream",
     "text": [
      "El factorial de  0  es  1\n",
      "El factorial de  1  es  1\n",
      "El factorial de  2  es  2\n",
      "El factorial de  3  es  6\n",
      "El factorial de  4  es  24\n",
      "El factorial de  5  es  120\n",
      "El factorial de  6  es  720\n",
      "El factorial de  7  es  5040\n",
      "El factorial de  8  es  40320\n",
      "El factorial de  9  es  362880\n",
      "El factorial de  10  es  3628800\n"
     ]
    }
   ],
   "source": [
    "ut.factorial()"
   ]
  }
 ],
 "metadata": {
  "interpreter": {
   "hash": "c85384e4cb51c8b72350f3a8712cc8351fdc3955e32a27f9b60c6242ab125f01"
  },
  "kernelspec": {
   "display_name": "Python 3 (ipykernel)",
   "language": "python",
   "name": "python3"
  },
  "language_info": {
   "codemirror_mode": {
    "name": "ipython",
    "version": 3
   },
   "file_extension": ".py",
   "mimetype": "text/x-python",
   "name": "python",
   "nbconvert_exporter": "python",
   "pygments_lexer": "ipython3",
   "version": "3.10.4"
  }
 },
 "nbformat": 4,
 "nbformat_minor": 4
}
