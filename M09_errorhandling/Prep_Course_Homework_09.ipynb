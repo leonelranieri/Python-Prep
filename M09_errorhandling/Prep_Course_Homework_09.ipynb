{
 "cells": [
  {
   "attachments": {},
   "cell_type": "markdown",
   "metadata": {},
   "source": [
    "## Manejo de errores"
   ]
  },
  {
   "attachments": {},
   "cell_type": "markdown",
   "metadata": {},
   "source": [
    "1) Con la clase creada en el módulo 7, tener en cuenta diferentes casos en que el código pudiera arrojar error. Por ejemplo, en la creación del objeto recibimos una lista de números enteros pero ¿qué pasa si se envía otro tipo de dato?"
   ]
  },
  {
   "cell_type": "code",
   "execution_count": 1,
   "metadata": {},
   "outputs": [],
   "source": [
    "import sys\n",
    "\n",
    "#sys.path.append(r'D:\\Escritorio\\Python-Prep\\M09_errorhandling')"
   ]
  },
  {
   "cell_type": "code",
   "execution_count": 4,
   "metadata": {},
   "outputs": [
    {
     "name": "stdout",
     "output_type": "stream",
     "text": [
      "(0, 'd:\\\\Escritorio\\\\Python-Prep\\\\M09_errorhandling')\n",
      "(1, 'c:\\\\Users\\\\leone\\\\AppData\\\\Local\\\\Programs\\\\Python\\\\Python310\\\\python310.zip')\n",
      "(2, 'c:\\\\Users\\\\leone\\\\AppData\\\\Local\\\\Programs\\\\Python\\\\Python310\\\\DLLs')\n",
      "(3, 'c:\\\\Users\\\\leone\\\\AppData\\\\Local\\\\Programs\\\\Python\\\\Python310\\\\lib')\n",
      "(4, 'c:\\\\Users\\\\leone\\\\AppData\\\\Local\\\\Programs\\\\Python\\\\Python310')\n",
      "(5, 'c:\\\\Users\\\\leone\\\\AppData\\\\Local\\\\Programs\\\\Python\\\\Python310\\\\lib\\\\site-packages')\n",
      "(6, 'c:\\\\Users\\\\leone\\\\AppData\\\\Local\\\\Programs\\\\Python\\\\Python310\\\\lib\\\\site-packages\\\\win32')\n",
      "(7, 'c:\\\\Users\\\\leone\\\\AppData\\\\Local\\\\Programs\\\\Python\\\\Python310\\\\lib\\\\site-packages\\\\win32\\\\lib')\n",
      "(8, 'c:\\\\Users\\\\leone\\\\AppData\\\\Local\\\\Programs\\\\Python\\\\Python310\\\\lib\\\\site-packages\\\\Pythonwin')\n"
     ]
    }
   ],
   "source": [
    "for path in enumerate(sys.path):\n",
    "    print(path)\n"
   ]
  },
  {
   "cell_type": "code",
   "execution_count": 5,
   "metadata": {},
   "outputs": [],
   "source": [
    "import utilidades as u\n",
    "#sys.path.pop(5)"
   ]
  },
  {
   "cell_type": "code",
   "execution_count": 6,
   "metadata": {},
   "outputs": [
    {
     "ename": "ValueError",
     "evalue": "Se esperaba un tipo de dato list con número enteros. Se crea una lista vacía",
     "output_type": "error",
     "traceback": [
      "\u001b[1;31m---------------------------------------------------------------------------\u001b[0m",
      "\u001b[1;31mValueError\u001b[0m                                Traceback (most recent call last)",
      "Input \u001b[1;32mIn [6]\u001b[0m, in \u001b[0;36m<cell line: 3>\u001b[1;34m()\u001b[0m\n\u001b[0;32m      1\u001b[0m \u001b[38;5;28;01mimport\u001b[39;00m \u001b[38;5;21;01mimportlib\u001b[39;00m\n\u001b[0;32m      2\u001b[0m importlib\u001b[38;5;241m.\u001b[39mreload(u)\n\u001b[1;32m----> 3\u001b[0m util \u001b[38;5;241m=\u001b[39m \u001b[43mu\u001b[49m\u001b[38;5;241;43m.\u001b[39;49m\u001b[43mUtilidades\u001b[49m\u001b[43m(\u001b[49m\u001b[38;5;124;43m\"\u001b[39;49m\u001b[38;5;124;43mhola\u001b[39;49m\u001b[38;5;124;43m\"\u001b[39;49m\u001b[43m)\u001b[49m\n",
      "File \u001b[1;32md:\\Escritorio\\Python-Prep\\M09_errorhandling\\utilidades.py:5\u001b[0m, in \u001b[0;36mUtilidades.__init__\u001b[1;34m(self, lista_de_numeros)\u001b[0m\n\u001b[0;32m      3\u001b[0m \u001b[38;5;28;01mif\u001b[39;00m(\u001b[38;5;28mtype\u001b[39m(lista_de_numeros) \u001b[38;5;241m!=\u001b[39m \u001b[38;5;28mlist\u001b[39m):\n\u001b[0;32m      4\u001b[0m     \u001b[38;5;28mself\u001b[39m\u001b[38;5;241m.\u001b[39mlista\u001b[38;5;241m=\u001b[39m[]\n\u001b[1;32m----> 5\u001b[0m     \u001b[38;5;28;01mraise\u001b[39;00m \u001b[38;5;167;01mValueError\u001b[39;00m(\u001b[38;5;124m'\u001b[39m\u001b[38;5;124mSe esperaba un tipo de dato list con número enteros. Se crea una lista vacía\u001b[39m\u001b[38;5;124m'\u001b[39m)\n\u001b[0;32m      6\u001b[0m \u001b[38;5;28;01melse\u001b[39;00m:\n\u001b[0;32m      7\u001b[0m     \u001b[38;5;28mself\u001b[39m\u001b[38;5;241m.\u001b[39mlista\u001b[38;5;241m=\u001b[39mlista_de_numeros\n",
      "\u001b[1;31mValueError\u001b[0m: Se esperaba un tipo de dato list con número enteros. Se crea una lista vacía"
     ]
    }
   ],
   "source": [
    "import importlib\n",
    "importlib.reload(u)\n",
    "util = u.Utilidades(\"hola\")"
   ]
  },
  {
   "cell_type": "code",
   "execution_count": 7,
   "metadata": {},
   "outputs": [],
   "source": [
    "#util = u.Utilidades([2,15,78,3,10,9,14,15,11,33,115,2])\n",
    "util = u.Utilidades([1,2,3,4,5])"
   ]
  },
  {
   "attachments": {},
   "cell_type": "markdown",
   "metadata": {},
   "source": [
    "2) En la función que hace la conversión de grados, validar que los parámetros enviados sean los esperados, de no serlo, informar cuáles son los valores esperados."
   ]
  },
  {
   "cell_type": "code",
   "execution_count": 8,
   "metadata": {},
   "outputs": [
    {
     "data": {
      "text/plain": [
       "<module 'utilidades' from 'd:\\\\Escritorio\\\\Python-Prep\\\\M09_errorhandling\\\\utilidades.py'>"
      ]
     },
     "execution_count": 8,
     "metadata": {},
     "output_type": "execute_result"
    }
   ],
   "source": [
    "import importlib\n",
    "importlib.reload(u)"
   ]
  },
  {
   "cell_type": "code",
   "execution_count": 9,
   "metadata": {},
   "outputs": [
    {
     "name": "stdout",
     "output_type": "stream",
     "text": [
      "Se ve que 1 no es una medida esperada. Se espera alguno de los siguientes valores ['celcius', 'farenheit', 'kelvin']\n",
      "[]\n"
     ]
    }
   ],
   "source": [
    "resultado=util.conversion_de_grados(1,2)\n",
    "print(resultado)"
   ]
  },
  {
   "cell_type": "code",
   "execution_count": 10,
   "metadata": {},
   "outputs": [
    {
     "name": "stdout",
     "output_type": "stream",
     "text": [
      "[-272.15, -271.15, -270.15, -269.15, -268.15]\n"
     ]
    }
   ],
   "source": [
    "resultado=util.conversion_de_grados(\"kelvin\",\"celcius\")\n",
    "print(resultado)"
   ]
  },
  {
   "attachments": {},
   "cell_type": "markdown",
   "metadata": {},
   "source": [
    "3) Importar el modulo \"unittest\" y crear los siguientes casos de pruebas sobre la clase utilizada en el punto 2<br>\n",
    "Creacion del objeto incorrecta<br>\n",
    "Creacion correcta del objeto<br>\n",
    "Metodo valor_modal()<br>\n",
    "\n",
    "Se puede usar \"raise ValueError()\" en la creación de la clase para verificar el error. Investigar sobre esta funcionalidad."
   ]
  },
  {
   "cell_type": "code",
   "execution_count": 11,
   "metadata": {},
   "outputs": [],
   "source": [
    "import unittest"
   ]
  },
  {
   "cell_type": "code",
   "execution_count": 12,
   "metadata": {},
   "outputs": [],
   "source": [
    "class PruebaDeUtilidades(unittest.TestCase):\n",
    "\n",
    "    def test_crear_objeto_ok(self):\n",
    "        parametro=[1,2,3,4,5]\n",
    "        ut=u.Utilidades(parametro)\n",
    "        self.assertEqual(ut.lista, parametro)\n",
    "    \n",
    "    def test_crear_objeto_nok(self):\n",
    "        parametro=\"Hola\"\n",
    "        self.assertRaises(ValueError, u.Utilidades, parametro)\n",
    "    \n",
    "    def test_valor_modal(self):\n",
    "        lista_test=[1,2,3,4,1]\n",
    "        ut=u.Utilidades(lista_test)\n",
    "        i,j=ut.mayor_ocurrencia()\n",
    "        resultado=[i,j]\n",
    "        comparacion=[1,2]\n",
    "        self.assertEqual(resultado,comparacion)"
   ]
  },
  {
   "cell_type": "code",
   "execution_count": 13,
   "metadata": {},
   "outputs": [
    {
     "name": "stderr",
     "output_type": "stream",
     "text": [
      "test_crear_objeto_nok (__main__.PruebaDeUtilidades) ... ok\n",
      "test_crear_objeto_ok (__main__.PruebaDeUtilidades) ... ok\n",
      "test_valor_modal (__main__.PruebaDeUtilidades) ... ok\n",
      "\n",
      "----------------------------------------------------------------------\n",
      "Ran 3 tests in 0.003s\n",
      "\n",
      "OK\n"
     ]
    },
    {
     "data": {
      "text/plain": [
       "<unittest.main.TestProgram at 0x28d68f3f6a0>"
      ]
     },
     "execution_count": 13,
     "metadata": {},
     "output_type": "execute_result"
    }
   ],
   "source": [
    "unittest.main(argv=[\"\"], verbosity=2, exit=False)"
   ]
  },
  {
   "attachments": {},
   "cell_type": "markdown",
   "metadata": {},
   "source": [
    "4) Probar una creación incorrecta y visualizar la salida del \"raise\""
   ]
  },
  {
   "cell_type": "code",
   "execution_count": 14,
   "metadata": {},
   "outputs": [
    {
     "ename": "ValueError",
     "evalue": "Se esperaba un tipo de dato list con número enteros. Se crea una lista vacía",
     "output_type": "error",
     "traceback": [
      "\u001b[1;31m---------------------------------------------------------------------------\u001b[0m",
      "\u001b[1;31mValueError\u001b[0m                                Traceback (most recent call last)",
      "Input \u001b[1;32mIn [14]\u001b[0m, in \u001b[0;36m<cell line: 1>\u001b[1;34m()\u001b[0m\n\u001b[1;32m----> 1\u001b[0m u2\u001b[38;5;241m=\u001b[39m\u001b[43mu\u001b[49m\u001b[38;5;241;43m.\u001b[39;49m\u001b[43mUtilidades\u001b[49m\u001b[43m(\u001b[49m\u001b[38;5;124;43m\"\u001b[39;49m\u001b[38;5;124;43mhola\u001b[39;49m\u001b[38;5;124;43m\"\u001b[39;49m\u001b[43m)\u001b[49m\n",
      "File \u001b[1;32md:\\Escritorio\\Python-Prep\\M09_errorhandling\\utilidades.py:5\u001b[0m, in \u001b[0;36mUtilidades.__init__\u001b[1;34m(self, lista_de_numeros)\u001b[0m\n\u001b[0;32m      3\u001b[0m \u001b[38;5;28;01mif\u001b[39;00m(\u001b[38;5;28mtype\u001b[39m(lista_de_numeros) \u001b[38;5;241m!=\u001b[39m \u001b[38;5;28mlist\u001b[39m):\n\u001b[0;32m      4\u001b[0m     \u001b[38;5;28mself\u001b[39m\u001b[38;5;241m.\u001b[39mlista\u001b[38;5;241m=\u001b[39m[]\n\u001b[1;32m----> 5\u001b[0m     \u001b[38;5;28;01mraise\u001b[39;00m \u001b[38;5;167;01mValueError\u001b[39;00m(\u001b[38;5;124m'\u001b[39m\u001b[38;5;124mSe esperaba un tipo de dato list con número enteros. Se crea una lista vacía\u001b[39m\u001b[38;5;124m'\u001b[39m)\n\u001b[0;32m      6\u001b[0m \u001b[38;5;28;01melse\u001b[39;00m:\n\u001b[0;32m      7\u001b[0m     \u001b[38;5;28mself\u001b[39m\u001b[38;5;241m.\u001b[39mlista\u001b[38;5;241m=\u001b[39mlista_de_numeros\n",
      "\u001b[1;31mValueError\u001b[0m: Se esperaba un tipo de dato list con número enteros. Se crea una lista vacía"
     ]
    }
   ],
   "source": [
    "u2=u.Utilidades(\"hola\")"
   ]
  },
  {
   "attachments": {},
   "cell_type": "markdown",
   "metadata": {},
   "source": [
    "6) Agregar casos de pruebas para el método verifica_primos() realizando el cambio en la clase, para que devuelva una lista de True o False en función de que el elemento en la posisicón sea o no primo"
   ]
  },
  {
   "cell_type": "code",
   "execution_count": 15,
   "metadata": {},
   "outputs": [],
   "source": [
    "class PruebaDeUtilidades1(unittest.TestCase):\n",
    "\n",
    "    def test_es_primo(self):\n",
    "        lista_prueba=[1,2,3,4,5]\n",
    "        util1=u.Utilidades(lista_prueba)\n",
    "        lista_primos=util.es_primo_con_lista()\n",
    "        lista_primos_validar=[False,True,True,False,True]\n",
    "        self.assertEqual(lista_primos, lista_primos_validar)\n"
   ]
  },
  {
   "cell_type": "code",
   "execution_count": 16,
   "metadata": {},
   "outputs": [
    {
     "data": {
      "text/plain": [
       "<module 'utilidades' from 'd:\\\\Escritorio\\\\Python-Prep\\\\M09_errorhandling\\\\utilidades.py'>"
      ]
     },
     "execution_count": 16,
     "metadata": {},
     "output_type": "execute_result"
    }
   ],
   "source": [
    "importlib.reload(u)"
   ]
  },
  {
   "cell_type": "code",
   "execution_count": 17,
   "metadata": {},
   "outputs": [
    {
     "name": "stderr",
     "output_type": "stream",
     "text": [
      "test_crear_objeto_nok (__main__.PruebaDeUtilidades) ... ok\n",
      "test_crear_objeto_ok (__main__.PruebaDeUtilidades) ... ok\n",
      "test_valor_modal (__main__.PruebaDeUtilidades) ... ok\n",
      "test_es_primo (__main__.PruebaDeUtilidades1) ... ok\n",
      "\n",
      "----------------------------------------------------------------------\n",
      "Ran 4 tests in 0.008s\n",
      "\n",
      "OK\n"
     ]
    },
    {
     "data": {
      "text/plain": [
       "<unittest.main.TestProgram at 0x28d68f25510>"
      ]
     },
     "execution_count": 17,
     "metadata": {},
     "output_type": "execute_result"
    }
   ],
   "source": [
    "unittest.main(argv=[\"\"], verbosity=2, exit=False)"
   ]
  },
  {
   "attachments": {},
   "cell_type": "markdown",
   "metadata": {},
   "source": [
    "7) Agregar casos de pruebas para el método conversion_grados()"
   ]
  },
  {
   "cell_type": "code",
   "execution_count": 18,
   "metadata": {},
   "outputs": [],
   "source": [
    "class PruebaDeUtilidades2(unittest.TestCase):\n",
    "    \n",
    "    def test_conversion_de_unidades(self):\n",
    "        lista=[1,2,3,4,5]\n",
    "        u3=u.Utilidades(lista)\n",
    "        lista_grados=u3.conversion_de_grados(\"celcius\", \"kelvin\")\n",
    "        grados_esperados=[274.15,275.15,276.15,277.15,278.15]\n",
    "        self.assertEqual(lista_grados, grados_esperados)"
   ]
  },
  {
   "cell_type": "code",
   "execution_count": 25,
   "metadata": {},
   "outputs": [
    {
     "data": {
      "text/plain": [
       "<module 'utilidades' from 'd:\\\\Escritorio\\\\Python-Prep\\\\M09_errorhandling\\\\utilidades.py'>"
      ]
     },
     "execution_count": 25,
     "metadata": {},
     "output_type": "execute_result"
    }
   ],
   "source": [
    "importlib.reload(u)"
   ]
  },
  {
   "cell_type": "code",
   "execution_count": 20,
   "metadata": {},
   "outputs": [
    {
     "name": "stderr",
     "output_type": "stream",
     "text": [
      "test_crear_objeto_nok (__main__.PruebaDeUtilidades) ... ok\n",
      "test_crear_objeto_ok (__main__.PruebaDeUtilidades) ... ok\n",
      "test_valor_modal (__main__.PruebaDeUtilidades) ... ok\n",
      "test_es_primo (__main__.PruebaDeUtilidades1) ... ok\n",
      "test_conversion_de_unidades (__main__.PruebaDeUtilidades2) ... ok\n",
      "\n",
      "----------------------------------------------------------------------\n",
      "Ran 5 tests in 0.010s\n",
      "\n",
      "OK\n"
     ]
    },
    {
     "data": {
      "text/plain": [
       "<unittest.main.TestProgram at 0x28d68f0fd90>"
      ]
     },
     "execution_count": 20,
     "metadata": {},
     "output_type": "execute_result"
    }
   ],
   "source": [
    "unittest.main(argv=[\"\"], verbosity=2, exit=False)"
   ]
  },
  {
   "attachments": {},
   "cell_type": "markdown",
   "metadata": {},
   "source": [
    "8) Agregar casos de pruebas para el método factorial()"
   ]
  },
  {
   "cell_type": "code",
   "execution_count": 26,
   "metadata": {},
   "outputs": [],
   "source": [
    "class PruebaDeUtilidades3(unittest.TestCase):\n",
    "\n",
    "    def test_factorial(self):\n",
    "        lista=[1,2,3,4,5]\n",
    "        util = u.Utilidades(lista)\n",
    "        lista_resul=util.factorial_con_lista()\n",
    "        lista_esperada=[1,2,6,24,120]\n",
    "        self.assertEqual(lista_resul, lista_esperada)"
   ]
  },
  {
   "cell_type": "code",
   "execution_count": 22,
   "metadata": {},
   "outputs": [
    {
     "data": {
      "text/plain": [
       "<module 'utilidades' from 'd:\\\\Escritorio\\\\Python-Prep\\\\M09_errorhandling\\\\utilidades.py'>"
      ]
     },
     "execution_count": 22,
     "metadata": {},
     "output_type": "execute_result"
    }
   ],
   "source": [
    "importlib.reload(u)"
   ]
  },
  {
   "cell_type": "code",
   "execution_count": 27,
   "metadata": {},
   "outputs": [
    {
     "name": "stderr",
     "output_type": "stream",
     "text": [
      "test_crear_objeto_nok (__main__.PruebaDeUtilidades) ... ok\n",
      "test_crear_objeto_ok (__main__.PruebaDeUtilidades) ... ok\n",
      "test_valor_modal (__main__.PruebaDeUtilidades) ... ok\n",
      "test_es_primo (__main__.PruebaDeUtilidades1) ... ok\n",
      "test_conversion_de_unidades (__main__.PruebaDeUtilidades2) ... ok\n",
      "test_factorial (__main__.PruebaDeUtilidades3) ... ok\n",
      "\n",
      "----------------------------------------------------------------------\n",
      "Ran 6 tests in 0.011s\n",
      "\n",
      "OK\n"
     ]
    },
    {
     "data": {
      "text/plain": [
       "<unittest.main.TestProgram at 0x28d68e7a5f0>"
      ]
     },
     "execution_count": 27,
     "metadata": {},
     "output_type": "execute_result"
    }
   ],
   "source": [
    "unittest.main(argv=[\"\"], verbosity=2, exit=False)"
   ]
  }
 ],
 "metadata": {
  "interpreter": {
   "hash": "c85384e4cb51c8b72350f3a8712cc8351fdc3955e32a27f9b60c6242ab125f01"
  },
  "kernelspec": {
   "display_name": "Python 3 (ipykernel)",
   "language": "python",
   "name": "python3"
  },
  "language_info": {
   "codemirror_mode": {
    "name": "ipython",
    "version": 3
   },
   "file_extension": ".py",
   "mimetype": "text/x-python",
   "name": "python",
   "nbconvert_exporter": "python",
   "pygments_lexer": "ipython3",
   "version": "3.10.4"
  }
 },
 "nbformat": 4,
 "nbformat_minor": 4
}
