{
 "cells": [
  {
   "attachments": {},
   "cell_type": "markdown",
   "metadata": {},
   "source": [
    "## Funciones"
   ]
  },
  {
   "attachments": {},
   "cell_type": "markdown",
   "metadata": {},
   "source": [
    "1) Crear una función que reciba un número como parámetro y devuelva True si es primo y False si no lo es"
   ]
  },
  {
   "cell_type": "code",
   "execution_count": 19,
   "metadata": {},
   "outputs": [
    {
     "data": {
      "text/plain": [
       "True"
      ]
     },
     "execution_count": 19,
     "metadata": {},
     "output_type": "execute_result"
    }
   ],
   "source": [
    "def es_primo(num):\n",
    "    '''Función que determina si un número es primo o no.\n",
    "        Retorna un booleano. '''\n",
    "    if(num < 2):\n",
    "        return False\n",
    "    for i in range(2, num):\n",
    "        if(num%i==0):\n",
    "            return False\n",
    "    return True\n",
    "\n",
    "es_primo(11)"
   ]
  },
  {
   "attachments": {},
   "cell_type": "markdown",
   "metadata": {},
   "source": [
    "2) Utilizando la función del punto 1, realizar otra función que reciba de parámetro una lista de números y devuelva sólo aquellos que son primos en otra lista"
   ]
  },
  {
   "cell_type": "code",
   "execution_count": 13,
   "metadata": {},
   "outputs": [
    {
     "name": "stdout",
     "output_type": "stream",
     "text": [
      "[2, 3, 5, 7, 11]\n"
     ]
    }
   ],
   "source": [
    "def lista_de_primos(lista):\n",
    "    '''Determina en una lista de enteros, cuáles de ellos son primos.\n",
    "        Retona una lista con ese conjunto de números.'''\n",
    "    return [num for num in lista if es_primo(num)]\n",
    "\n",
    "mi_lista=[1,2,3,4,5,6,7,8,9,10,11]\n",
    "nueva_lista=lista_de_primos(mi_lista)\n",
    "print(nueva_lista)"
   ]
  },
  {
   "attachments": {},
   "cell_type": "markdown",
   "metadata": {},
   "source": [
    "3) Crear una función que al recibir una lista de números, devuelva el que más se repite y cuántas veces lo hace. Si hay más de un \"más repetido\", que devuelva cualquiera"
   ]
  },
  {
   "cell_type": "code",
   "execution_count": 17,
   "metadata": {},
   "outputs": [
    {
     "name": "stdout",
     "output_type": "stream",
     "text": [
      "El número 3 es el que más se repite. Aparece 7 veces\n"
     ]
    }
   ],
   "source": [
    "def mayor_ocurrencia(lista):\n",
    "    '''Determina, dada una lista, el número que aparece más veces,\n",
    "        y la cantidad de veces que aparece.'''\n",
    "    max=-999\n",
    "    j=-1\n",
    "    for i,num in enumerate(lista):\n",
    "        cant=lista.count(num)\n",
    "        if(cant>max):\n",
    "            max=cant\n",
    "            j=i\n",
    "    return lista[j], cant\n",
    "\n",
    "lista_de_num=[1,2,3,1,1,2,3,3,1,2,3,3,1,1,2,3,3]\n",
    "numero, ocurrencias=mayor_ocurrencia(lista_de_num)\n",
    "print(f'El número {numero} es el que más se repite. Aparece {ocurrencias} veces')"
   ]
  },
  {
   "attachments": {},
   "cell_type": "markdown",
   "metadata": {},
   "source": [
    "4) Crear una función que convierta entre grados Celsius, Farenheit y Kelvin<br>\n",
    "Fórmula 1\t: (°C × 9/5) + 32 = °F<br>\n",
    "Fórmula 2\t: °C + 273.15 = °K<br>\n",
    "Debe recibir 3 parámetros: el valor, la medida de orígen y la medida de destino\n"
   ]
  },
  {
   "cell_type": "code",
   "execution_count": null,
   "metadata": {},
   "outputs": [],
   "source": []
  },
  {
   "cell_type": "code",
   "execution_count": 36,
   "metadata": {},
   "outputs": [
    {
     "name": "stdout",
     "output_type": "stream",
     "text": [
      "260.92777777777775\n"
     ]
    }
   ],
   "source": [
    "def de_celcius_a_farenheit(c):\n",
    "    return (c*(9/5))+32\n",
    "def de_celcius_a_kelvin(c):\n",
    "    return c+273.15\n",
    "def de_farenheit_a_celcius(f):\n",
    "    return (f-32)/(9/5)\n",
    "def de_kelvin_a_celcius(k):\n",
    "    return k-273.15\n",
    "def de_farenheit_a_kelvin(f):\n",
    "    return de_celcius_a_kelvin(de_farenheit_a_celcius(f))\n",
    "def de_kelvin_a_farenheit(k):\n",
    "    return de_celcius_a_farenheit(de_kelvin_a_celcius(k))\n",
    "\n",
    "def conversion_de_grados(valor, medida_origen, medida_destino):\n",
    "    '''Dado un valor y dos unidades de medida, se realiza\n",
    "        la conversión desde la medida de origen a la medida destino'''\n",
    "    if(medida_origen.lower()==\"celcius\"):\n",
    "        if(medida_destino.lower()==\"farenheit\"):\n",
    "            return de_celcius_a_farenheit(valor)\n",
    "        elif(medida_destino.lower()==\"kelvin\"):\n",
    "            return de_celcius_a_kelvin(valor)\n",
    "        elif(medida_destino.lower()==\"celcius\"):\n",
    "            return valor\n",
    "        else:\n",
    "            print(\"Medida destino incorrecta\")\n",
    "    elif(medida_origen.lower()==\"farenheit\"):   \n",
    "        if(medida_destino.lower()==\"celcius\"):\n",
    "            return de_farenheit_a_celcius(valor)\n",
    "        elif (medida_destino.lower()==\"kelvin\"):\n",
    "            return de_farenheit_a_kelvin(valor)\n",
    "        elif(medida_destino.lower()==\"farenheit\"):\n",
    "            return valor\n",
    "        else:\n",
    "            print(\"Medida destino incorrecta\")\n",
    "    elif(medida_origen.lower()==\"kelvin\"):\n",
    "        if(medida_destino.lower()==\"celcius\"):\n",
    "            return de_kelvin_a_celcius(valor)\n",
    "        elif (medida_destino.lower()==\"farenheit\"):\n",
    "            return de_kelvin_a_farenheit(valor)\n",
    "        elif(medida_destino.lower()==\"kelvin\"):\n",
    "            return valor\n",
    "        else:\n",
    "            print(\"Medida destino incorrecta\")\n",
    "    else:\n",
    "        print(\"Medida origen incorrecta\")\n",
    "\n",
    "print(conversion_de_grados(10,\"farenheit\",\"kelvin\"))"
   ]
  },
  {
   "attachments": {},
   "cell_type": "markdown",
   "metadata": {},
   "source": [
    "5) Iterando una lista con los tres valores posibles de temperatura que recibe la función del punto 5, hacer un print para cada combinación de los mismos:"
   ]
  },
  {
   "cell_type": "code",
   "execution_count": 37,
   "metadata": {},
   "outputs": [
    {
     "name": "stdout",
     "output_type": "stream",
     "text": [
      "1\n",
      "33.8\n",
      "274.15\n",
      "-17.22222222222222\n",
      "1\n",
      "255.92777777777775\n",
      "-272.15\n",
      "-457.86999999999995\n",
      "1\n"
     ]
    }
   ],
   "source": [
    "lista=[\"celcius\", \"farenheit\", \"kelvin\"]\n",
    "for i in range(0,3):\n",
    "    for j in range(0,3):\n",
    "        print(conversion_de_grados(1,lista[i],lista[j]))"
   ]
  },
  {
   "attachments": {},
   "cell_type": "markdown",
   "metadata": {},
   "source": [
    "6) Armar una función que devuelva el factorial de un número. Tener en cuenta que el usuario puede equivocarse y enviar de parámetro un número no entero o negativo"
   ]
  },
  {
   "cell_type": "code",
   "execution_count": 5,
   "metadata": {},
   "outputs": [
    {
     "name": "stdout",
     "output_type": "stream",
     "text": [
      "120\n"
     ]
    }
   ],
   "source": [
    "def factorial(num):\n",
    "    '''Calcula el factorial de un número natural'''\n",
    "    if(type(num)!=int):\n",
    "        return \"El número debe ser del conjunto de los Naturales\"\n",
    "    if(num<0):\n",
    "        return \"El número no debe ser negativo\"\n",
    "    if(num <=1):\n",
    "        return 1\n",
    "    num=num*factorial(num-1)\n",
    "    return num \n",
    "\n",
    "print(factorial(5))"
   ]
  }
 ],
 "metadata": {
  "interpreter": {
   "hash": "c85384e4cb51c8b72350f3a8712cc8351fdc3955e32a27f9b60c6242ab125f01"
  },
  "kernelspec": {
   "display_name": "Python 3 (ipykernel)",
   "language": "python",
   "name": "python3"
  },
  "language_info": {
   "codemirror_mode": {
    "name": "ipython",
    "version": 3
   },
   "file_extension": ".py",
   "mimetype": "text/x-python",
   "name": "python",
   "nbconvert_exporter": "python",
   "pygments_lexer": "ipython3",
   "version": "3.10.4"
  }
 },
 "nbformat": 4,
 "nbformat_minor": 4
}
